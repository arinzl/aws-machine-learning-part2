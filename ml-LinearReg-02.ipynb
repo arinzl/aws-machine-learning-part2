{
 "cells": [
  {
   "cell_type": "markdown",
   "id": "c5fed1ce",
   "metadata": {},
   "source": [
    "# ML-LinearReg-02\n",
    "## devbuildit.com for more details"
   ]
  },
  {
   "cell_type": "code",
   "execution_count": null,
   "id": "79ffbe0d",
   "metadata": {},
   "outputs": [],
   "source": [
    "# Import Torch\n",
    "import torch\n",
    "from torch import nn\n",
    "\n",
    "# Matplotlib for visualisations\n",
    "import numpy as np\n",
    "import matplotlib.pyplot as plt"
   ]
  },
  {
   "cell_type": "code",
   "execution_count": null,
   "id": "fd6f344a",
   "metadata": {},
   "outputs": [],
   "source": [
    "print(f\"Pytorch version: {torch.__version__}\")\n",
    "device = torch.device('cuda' if torch.cuda.is_available() else 'cpu')\n",
    "print(f\"Device set to: {device}\")"
   ]
  },
  {
   "cell_type": "code",
   "execution_count": 3,
   "id": "56614351",
   "metadata": {
    "scrolled": true
   },
   "outputs": [],
   "source": [
    "slope = 0.8\n",
    "intercept =0.5\n",
    "\n",
    "start =0\n",
    "end =1\n",
    "step =0.02\n",
    "\n",
    "X = torch.arange(start=start,end=end,step=step).unsqueeze(dim=1)\n",
    "y=slope*X + intercept\n",
    "\n",
    "# split data (80% training, 20% test)\n",
    "train_split = int(0.8 * len(X))\n",
    "X_train, y_train = X[:train_split], y[:train_split]\n",
    "X_test, y_test = X[train_split:], y[train_split:]"
   ]
  },
  {
   "cell_type": "code",
   "execution_count": 4,
   "id": "ea497739",
   "metadata": {},
   "outputs": [],
   "source": [
    "def plot_predictions(train_data=X_train,\n",
    "                     train_labels=y_train,\n",
    "                     test_data=X_test,\n",
    "                     test_labels=y_test,\n",
    "                     inference=None):\n",
    "\n",
    "    plt.figure(figsize=(12,7))\n",
    "    plt.scatter(train_data, train_labels, c=\"b\", s=4, label=\"Training data\")\n",
    "    plt.scatter(test_data, test_labels, c=\"c\", s=4, label=\"Testing data\")\n",
    "    if inference is not None:\n",
    "        plt.scatter(test_data, inference, c=\"r\", s=4, label=\"Model Inference\")\n",
    "    plt.legend(prop={\"size\":10})"
   ]
  },
  {
   "cell_type": "code",
   "execution_count": null,
   "id": "254d9b2d",
   "metadata": {},
   "outputs": [],
   "source": [
    "plot_predictions()"
   ]
  },
  {
   "cell_type": "code",
   "execution_count": null,
   "id": "f8d61990",
   "metadata": {},
   "outputs": [],
   "source": [
    "class LinearRegresssionModel(nn.Module):       \n",
    "        super().__init__()\n",
    "        self.slope = nn.Parameter(torch.randn(1, \n",
    "                                                requires_grad=True,  \n",
    "                                                device=device,\n",
    "                                                dtype=float))\n",
    "        self.intercept = nn.Parameter(torch.randn(1, \n",
    "                                                requires_grad=True,  \n",
    "                                                device=device,\n",
    "                                                dtype=float))\n",
    "\n",
    "    def forward(self, x: torch.Tensor) -> torch.Tensor:\n",
    "        return self.slope * x + self.intercept"
   ]
  },
  {
   "cell_type": "code",
   "execution_count": null,
   "id": "52640f1f",
   "metadata": {},
   "outputs": [],
   "source": [
    "# create random seed for repeatablity\n",
    "torch.manual_seed(99)\n",
    "\n",
    "#instantiate new model object\n",
    "model_02 = LinearRegresssionModel()\n",
    "\n",
    "#Observe model initial parameters\n",
    "model_02.state_dict()"
   ]
  },
  {
   "cell_type": "code",
   "execution_count": 8,
   "id": "314f80a2",
   "metadata": {},
   "outputs": [],
   "source": [
    "model_02.eval()\n",
    "with torch.inference_mode():\n",
    "    y_preds = model_02(X_test)"
   ]
  },
  {
   "cell_type": "code",
   "execution_count": null,
   "id": "b429392b",
   "metadata": {},
   "outputs": [],
   "source": [
    "plot_predictions(inference=y_preds)"
   ]
  },
  {
   "cell_type": "code",
   "execution_count": null,
   "id": "17ced16a",
   "metadata": {},
   "outputs": [],
   "source": [
    "## Train the model\n",
    "\n",
    "# Loss - mean absolute error\n",
    "loss_fn = nn.L1Loss()\n",
    "\n",
    "# Optimiziser \n",
    "optimizer = torch.optim.SGD(params=model_02.parameters(),\n",
    "                            lr=0.01)\n",
    "\n",
    "slope_history = []\n",
    "intercept_history = []\n",
    "loss_history = []\n",
    "\n",
    "epochs = 350 \n",
    "\n",
    "# Training and testing loops\n",
    "for epoch in range(epochs):\n",
    "    model_02.train()\n",
    "    y_pred = model_02(X_train)\n",
    "    loss = loss_fn(y_pred, y_train)\n",
    "    optimizer.zero_grad()\n",
    "    loss.backward()\n",
    "    optimizer.step()\n",
    "\n",
    "    if epoch % 50 == 0: \n",
    "        print(f\"Epoch: {epoch:03}/{epochs} | Loss: {loss:.6f} | Slope: {model_02.slope.detach().clone().numpy()} | Intercept: {model_02.intercept.detach().clone().numpy()}\")    \n",
    "\n",
    "    loss_history.append(loss.item())\n",
    "    slope_history.append(model_02.slope.detach().clone().numpy())\n",
    "    intercept_history.append(model_02.intercept.detach().clone().numpy())"
   ]
  },
  {
   "cell_type": "code",
   "execution_count": null,
   "id": "00d17369",
   "metadata": {},
   "outputs": [],
   "source": [
    "# Convert lists to numpy arrays for easier plotting\n",
    "weight_history = np.array(slope_history)\n",
    "bias_history = np.array(intercept_history)\n",
    "epochs_range = np.array(epochs_range)\n",
    "\n",
    "plt.figure(figsize=(12, 8))\n",
    "\n",
    "# Plot 1: Model Slope valuesW\n",
    "plt.subplot(1, 3, 1)\n",
    "plt.plot(epochs_range, slope_history, marker='o')\n",
    "plt.title('Calculated slope per epoch')\n",
    "plt.xlabel('Epoch')\n",
    "plt.ylabel('Slope Value')\n",
    "plt.grid(True)\n",
    "\n",
    "# Plot 2: Model Intercept values\n",
    "plt.subplot(1, 3, 2)\n",
    "plt.plot(epochs_range, intercept_history, marker='o', color='orange')\n",
    "plt.title('Calculated intercept per epoch')\n",
    "plt.xlabel('Epoch')\n",
    "plt.ylabel('Intercept Value')\n",
    "plt.grid(True)\n",
    "\n",
    "# Plot 3: Loss over epochs\n",
    "plt.subplot(1, 3, 3)\n",
    "plt.plot(epochs_range, loss_history, marker='x', color='green')\n",
    "plt.title('Loss per epochs')\n",
    "plt.xlabel('Epoch')\n",
    "plt.ylabel('Loss')\n",
    "plt.grid(True)\n",
    "\n",
    "plt.tight_layout()\n",
    "plt.show()"
   ]
  },
  {
   "cell_type": "code",
   "execution_count": null,
   "id": "6432d661",
   "metadata": {
    "tags": []
   },
   "outputs": [],
   "source": [
    "model_02.eval()\n",
    "with torch.inference_mode():\n",
    "    y_model_eval = model_02(X_test)\n",
    "plot_predictions(inference=y_model_eval)"
   ]
  }
 ],
 "metadata": {
  "kernelspec": {
   "display_name": "Python 3.10.x (PyTorch)",
   "language": "python",
   "name": "python310-pytorch"
  },
  "language_info": {
   "codemirror_mode": {
    "name": "ipython",
    "version": 3
   },
   "file_extension": ".py",
   "mimetype": "text/x-python",
   "name": "python",
   "nbconvert_exporter": "python",
   "pygments_lexer": "ipython3",
   "version": "3.10.13"
  }
 },
 "nbformat": 4,
 "nbformat_minor": 5
}
